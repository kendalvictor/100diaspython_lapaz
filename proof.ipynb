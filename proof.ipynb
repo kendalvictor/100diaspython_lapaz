{
 "cells": [
  {
   "cell_type": "code",
   "execution_count": 1,
   "id": "cc9f2dd6-d64a-4bac-a55e-6fcba9166ab9",
   "metadata": {},
   "outputs": [],
   "source": [
    "cadena = 'hjfacetiluzislcafiesdolavedfiedesno'"
   ]
  },
  {
   "cell_type": "code",
   "execution_count": null,
   "id": "98ea5ee3-ca83-44b0-bf3f-85eef6315783",
   "metadata": {},
   "outputs": [],
   "source": []
  },
  {
   "cell_type": "code",
   "execution_count": 25,
   "id": "a82c676b-83d6-424d-9ef8-4cd614854af3",
   "metadata": {},
   "outputs": [
    {
     "data": {
      "text/plain": [
       "35"
      ]
     },
     "execution_count": 25,
     "metadata": {},
     "output_type": "execute_result"
    }
   ],
   "source": [
    "len(cadena)"
   ]
  },
  {
   "cell_type": "code",
   "execution_count": 39,
   "id": "8978791b-ea9b-4365-95f2-65edd8553e4f",
   "metadata": {},
   "outputs": [
    {
     "data": {
      "text/plain": [
       "'hjfacetiluzislcafiesdolavedfiedesnoonsedeifdevalodseifaclsizulitecafjh'"
      ]
     },
     "execution_count": 39,
     "metadata": {},
     "output_type": "execute_result"
    }
   ],
   "source": [
    "(cadena + cadena[::-1])[]"
   ]
  },
  {
   "cell_type": "code",
   "execution_count": 42,
   "id": "96783869-908e-45fa-9de4-dffc8d255338",
   "metadata": {},
   "outputs": [
    {
     "data": {
      "text/plain": [
       "'felicidades'"
      ]
     },
     "execution_count": 42,
     "metadata": {},
     "output_type": "execute_result"
    }
   ],
   "source": [
    "cadena[2::3]"
   ]
  },
  {
   "cell_type": "code",
   "execution_count": 38,
   "id": "67fb74dd-42f3-4d5a-b20a-f464ff62bd69",
   "metadata": {},
   "outputs": [
    {
     "data": {
      "text/plain": [
       "'jfacetiluzislcafiesdolavedfiedesno'"
      ]
     },
     "execution_count": 38,
     "metadata": {},
     "output_type": "execute_result"
    }
   ],
   "source": [
    "cadena[1::1]"
   ]
  },
  {
   "cell_type": "code",
   "execution_count": 35,
   "id": "236201b3-947b-4f94-8cc8-40c0b6ee3c2e",
   "metadata": {},
   "outputs": [
    {
     "name": "stdout",
     "output_type": "stream",
     "text": [
      "1 hjfacetiluzislcafiesdolavedfiedesno jfacetiluzislcafiesdolavedfiedesno onsedeifdevalodseifaclsizulitecafjh onsedeifdevalodseifaclsizulitecafj\n",
      "-- 1 hjfacetiluzislcafiesdolavedfiedesnoonsedeifdevalodseifaclsizulitecafj jfacetiluzislcafiesdolavedfiedesnoonsedeifdevalodseifaclsizulitecafj jfacetiluzislcafiesdolavedfiedesnoonsedeifdevalodseifaclsizulitecafjh facetiluzislcafiesdolavedfiedesnoonsedeifdevalodseifaclsizulitecafjh\n",
      "-- 2 hfctlzscfedlvdidsoneefeaosialiuieaj jaeiuilaisoaefeenosdidvldefcszltcf jaeiuilaisoaefeenosdidvldefcszltcfh fctlzscfedlvdidsoneefeaosialiuieaj\n",
      "-- 3 hatusaeovfdnndfvoeasuta jcizlfsleieosedadicilef jcizlfsleieosedadicilef felicidadesoeielsflzicj\n",
      "-- 4 hclsfdvisneeoiluej jeulioeensivdfslc jeulioeensivdfslch ftzcelddoefasaiia\n",
      "-- 5 hezadedoevscuc jtifodeniaella jtifodeniaella fisilfssflisif\n",
      "-- 6 htsevdnfoaua jilseesddclf jilseesddclf flcddseeslij\n",
      "-- 7 hicoiofdlt jlalendsse jlalendsse fufadseeic\n",
      "-- 8 hlfvseole juienidsc juienidsc fzedofsia\n",
      "-- 9 huefnvat jzsisace jzsisace fideellc\n",
      "-- 10 hzddesu jioeiel jioeiel fslsfii\n",
      "-- 11 hilneca jsaovlf jsaovlf flvoasj\n",
      "-- 12 hsvnou jlesdl jlesdl fcdesi\n",
      "-- 13 hlddic jcfefa jcfefa faiiaf\n",
      "-- 14 hcifl jaeds jaeds ffdei\n",
      "-- 15 hadvu jfeal jfeal fisli\n",
      "-- 16 hfsoe jindc jindc feosa\n",
      "-- 17 hioej jeoi jeoih fsnf\n",
      "-- 18 hena jssc jssc fdel\n",
      "-- 19 hses jddi jddi foez\n",
      "-- 20 hdeu joil joil flfi\n",
      "-- 21 hoft jlde jlde faec\n",
      "-- 22 hlea javf javf fvaj\n",
      "-- 23 haa jvl jvl feo\n",
      "-- 24 hvo jed jed fds\n",
      "-- 25 hes jde jde ffi\n",
      "-- 26 hdi jff jff fia\n",
      "-- 27 hfa jic jic fel\n",
      "-- 28 hil jes jes fdi\n",
      "-- 29 hei jdz jdz feu\n",
      "-- 30 hdu jel jel fsi\n",
      "-- 31 hei jst jst fne\n",
      "-- 32 hse jnc jnc foa\n",
      "-- 33 hna jof jof foj\n",
      "2 hfctlzscfedlvdidso jaeiuilaisoaefeen osdidvldefcszltcfh neefeaosialiuieaj\n",
      "-- 1 hfctlzscfedlvdidsoneefeaosialiuieaj fctlzscfedlvdidsoneefeaosialiuieaj jaeiuilaisoaefeenosdidvldefcszltcfh aeiuilaisoaefeenosdidvldefcszltcfh\n",
      "-- 2 hclsfdvisneeoiluej ftzcelddoefasaiia jeulioeensivdfslch aiiasafeoddlecztf\n",
      "-- 3 htsevdnfoaua flcddseeslij jilseesddclf auaofndvesth\n",
      "-- 4 hlfvseole fzedofsia juienidsc aisfodezf\n",
      "-- 5 hzddesu fslsfii jioeiel alandft\n",
      "-- 6 hsvnou fcdesi jlesdl aafdet\n",
      "-- 7 hcifl ffdei jaeds aievz\n",
      "-- 8 hfsoe feosa jindc asoef\n",
      "-- 9 hena fdel jssc aods\n",
      "-- 10 hdeu flfi joil aadt\n",
      "-- 11 hlea fvaj javf aelh\n",
      "-- 12 hvo fds jed afe\n",
      "-- 13 hdi fia jff aec\n",
      "-- 14 hil fdi jes aez\n",
      "-- 15 hdu fsi jel ant\n",
      "-- 16 hse foa jnc aof\n",
      "3 hatusaeovfdn jcizlfsleieo ndfvoeasutah oeielsflzicj\n",
      "-- 1 hatusaeovfdnoeielsflzicj atusaeovfdnoeielsflzicj jcizlfsleieondfvoeasutah cizlfsleieondfvoeasutah\n",
      "-- 2 htsevdoilfzc auaofneeslij jilseenfoaua czfliodvesth\n",
      "-- 3 huefoefi asodellc jzsinvat clledosa\n",
      "-- 4 hsvolz aafesi jlenou cfidet\n",
      "-- 5 hadez aenli jfevu csoot\n",
      "-- 6 heof aoel jsna clds\n",
      "-- 7 hoii avec jlft ceva\n",
      "-- 8 hvl afs jeo cie\n",
      "-- 9 hff adl jia ces\n",
      "-- 10 hdz ani jeu cot\n",
      "-- 11 hnc aoj joa cnh\n",
      "4 hclsfdvis jeulioeen sivdfslch neeoiluej\n",
      "-- 1 hclsfdvisneeoiluej clsfdvisneeoiluej jeulioeensivdfslch eulioeensivdfslch\n",
      "-- 2 hlfvseole csdineiuj juienidsc eloesvflh\n",
      "-- 3 hsvnou cfieie jlesdl eieifc\n",
      "-- 4 hfsoe cdnij jindc eosfh\n",
      "-- 5 hdeu cvee joil eevc\n",
      "-- 6 hvo cii jed eef\n",
      "-- 7 hil csu jes enl\n",
      "-- 8 hse cnj jnc esh\n",
      "5 hezaded jtifode dedazeh edofitj\n",
      "-- 1 hezadededofitj ezadededofitj jtifodededazeh tifodededazeh\n",
      "-- 2 hzdddft eaeeoij jioeeae tfdddzh\n",
      "-- 3 hadot edefj jfede todah\n",
      "-- 4 hddt eeoj joee tddh\n",
      "-- 5 hef edi jda tez\n",
      "-- 6 hdt eej jee tdh\n",
      "6 htsevd jilsee dvesth eeslij\n",
      "-- 1 htsevdeeslij tsevdeeslij jilseedvesth ilseedvesth\n",
      "-- 2 hsvesi tedelj jledet isevsh\n",
      "-- 3 heel tvei jsds ievt\n",
      "-- 4 hvs tdl jee ies\n",
      "-- 5 hdi tej jet idh\n",
      "7 hicoi jlale iocih elalj\n",
      "-- 1 hicoielalj icoielalj jlaleiocih laleiocih\n",
      "-- 2 hcill ioeaj jaeoi llich\n",
      "-- 3 holj iia jloh lec\n",
      "-- 4 hil iej jei lih\n",
      "8 hlfvs juien svflh neiuj\n",
      "-- 1 hlfvsneiuj lfvsneiuj juiensvflh uiensvflh\n",
      "-- 2 hfseu lvnij jinvl uesfh\n",
      "-- 3 hvej lsi jevh unf\n",
      "-- 4 hsu lnj jnl ush\n",
      "9 huef jzsi feuh iszj\n",
      "-- 1 huefiszj uefiszj jzsifeuh zsifeuh\n",
      "-- 2 heiz ufsj jsfu zieh\n",
      "-- 3 hfz uij jiu zfh\n",
      "10 hzdd jioe ddzh eoij\n",
      "-- 1 hzddeoij zddeoij jioeddzh ioeddzh\n",
      "-- 2 hdei zdoj jodz iedh\n",
      "-- 3 hdi zej jez idh\n",
      "11 hiln jsao nlih oasj\n",
      "-- 1 hilnoasj ilnoasj jsaonlih saonlih\n",
      "-- 2 hlos inaj jani solh\n",
      "-- 3 hns ioj joi snh\n",
      "12 hsv jle vsh elj\n",
      "-- 1 hsvelj svelj jlevsh levsh\n",
      "-- 2 hvl sej jes lvh\n",
      "13 hld jcf dlh fcj\n",
      "-- 1 hldfcj ldfcj jcfdlh cfdlh\n",
      "-- 2 hdc lfj jfl cdh\n",
      "14 hci jae ich eaj\n",
      "-- 1 hcieaj cieaj jaeich aeich\n",
      "-- 2 hia cej jec aih\n",
      "15 had jfe dah efj\n",
      "-- 1 hadefj adefj jfedah fedah\n",
      "-- 2 hdf aej jea fdh\n",
      "16 hfs jin sfh nij\n",
      "-- 1 hfsnij fsnij jinsfh insfh\n",
      "-- 2 hsi fnj jnf ish\n"
     ]
    }
   ],
   "source": [
    "for i in range(1, int(len(cadena) / 2)):\n",
    "    impar = cadena[::i]\n",
    "    par = cadena[1::i]\n",
    "    \n",
    "    print(i, impar , par, impar[::-1], par[::-1])\n",
    "    \n",
    "    nueva_1 = impar + par[::-1]\n",
    "    for j in range(1, int(len(nueva_1) / 2)):\n",
    "        print(\"--\", j, nueva_1[::j], nueva_1[1::j], nueva_1[::-1*j], nueva_1[-2::-1*j])"
   ]
  },
  {
   "cell_type": "code",
   "execution_count": 16,
   "id": "31b7420d-6f04-4925-bfa8-e60bcc54bf26",
   "metadata": {},
   "outputs": [
    {
     "data": {
      "text/plain": [
       "('hfctlzscfedlvdidso', 'jaeiuilaisoaefeen')"
      ]
     },
     "execution_count": 16,
     "metadata": {},
     "output_type": "execute_result"
    }
   ],
   "source": [
    "cadena[::2], cadena[1::2]"
   ]
  },
  {
   "cell_type": "code",
   "execution_count": 17,
   "id": "50f05c23-1ce9-4727-9699-8eb5b83fd6ff",
   "metadata": {},
   "outputs": [
    {
     "data": {
      "text/plain": [
       "('hatusaeovfdn', 'jcizlfsleieo')"
      ]
     },
     "execution_count": 17,
     "metadata": {},
     "output_type": "execute_result"
    }
   ],
   "source": [
    "cadena[::3], cadena[1::3]"
   ]
  },
  {
   "cell_type": "code",
   "execution_count": 18,
   "id": "4d2feefe-e462-4698-8043-7bf065e92e10",
   "metadata": {},
   "outputs": [
    {
     "data": {
      "text/plain": [
       "('hclsfdvis', 'jeulioeen')"
      ]
     },
     "execution_count": 18,
     "metadata": {},
     "output_type": "execute_result"
    }
   ],
   "source": [
    "cadena[::4], cadena[1::4]"
   ]
  },
  {
   "cell_type": "code",
   "execution_count": 19,
   "id": "55a0f2f5-edaa-4015-a35c-d26ca24bbe0d",
   "metadata": {},
   "outputs": [
    {
     "data": {
      "text/plain": [
       "('hezaded', 'jtifode')"
      ]
     },
     "execution_count": 19,
     "metadata": {},
     "output_type": "execute_result"
    }
   ],
   "source": [
    "cadena[::5], cadena[1::5]"
   ]
  },
  {
   "cell_type": "code",
   "execution_count": 20,
   "id": "c2292c54-8223-41cd-8a9d-c0b1dbde41fa",
   "metadata": {},
   "outputs": [
    {
     "data": {
      "text/plain": [
       "('htsevd', 'jilsee')"
      ]
     },
     "execution_count": 20,
     "metadata": {},
     "output_type": "execute_result"
    }
   ],
   "source": [
    "cadena[::6], cadena[1::6]"
   ]
  },
  {
   "cell_type": "code",
   "execution_count": 21,
   "id": "3ebedd14-aca6-48a5-bedf-7b02e7e85084",
   "metadata": {},
   "outputs": [
    {
     "data": {
      "text/plain": [
       "('hicoi', 'jlale')"
      ]
     },
     "execution_count": 21,
     "metadata": {},
     "output_type": "execute_result"
    }
   ],
   "source": [
    "cadena[::7], cadena[1::7]"
   ]
  },
  {
   "cell_type": "code",
   "execution_count": 22,
   "id": "783b6c1e-0e6d-420f-b707-6afb70c13017",
   "metadata": {},
   "outputs": [
    {
     "data": {
      "text/plain": [
       "('hlfvs', 'juien')"
      ]
     },
     "execution_count": 22,
     "metadata": {},
     "output_type": "execute_result"
    }
   ],
   "source": [
    "cadena[::8], cadena[1::8]"
   ]
  },
  {
   "cell_type": "code",
   "execution_count": 23,
   "id": "fc25130f-d803-40e5-93e3-37bb667953f3",
   "metadata": {},
   "outputs": [
    {
     "data": {
      "text/plain": [
       "('huef', 'jzsi')"
      ]
     },
     "execution_count": 23,
     "metadata": {},
     "output_type": "execute_result"
    }
   ],
   "source": [
    "cadena[::9], cadena[1::9]"
   ]
  },
  {
   "cell_type": "code",
   "execution_count": 24,
   "id": "9cc7bab2-cfce-432a-9e23-520393a216a1",
   "metadata": {},
   "outputs": [
    {
     "data": {
      "text/plain": [
       "('hzdd', 'jioe')"
      ]
     },
     "execution_count": 24,
     "metadata": {},
     "output_type": "execute_result"
    }
   ],
   "source": [
    "cadena[::10], cadena[1::10]"
   ]
  },
  {
   "cell_type": "code",
   "execution_count": 9,
   "id": "4dcf2720-346b-4780-a950-62cd60d183f0",
   "metadata": {},
   "outputs": [
    {
     "data": {
      "text/plain": [
       "'jaeiuilaisoaefeen'"
      ]
     },
     "execution_count": 9,
     "metadata": {},
     "output_type": "execute_result"
    }
   ],
   "source": [
    "cadena[::10], cadena[1::10]"
   ]
  },
  {
   "cell_type": "code",
   "execution_count": 11,
   "id": "0c522fd5-ff10-4102-9d98-0ca9e2a97c44",
   "metadata": {},
   "outputs": [
    {
     "data": {
      "text/plain": [
       "'neefeaosialiuieaj'"
      ]
     },
     "execution_count": 11,
     "metadata": {},
     "output_type": "execute_result"
    }
   ],
   "source": [
    "cadena[-2::-2]"
   ]
  },
  {
   "cell_type": "code",
   "execution_count": null,
   "id": "95e09a5b-3da2-4ddc-8c2c-1de9e928273c",
   "metadata": {},
   "outputs": [],
   "source": []
  }
 ],
 "metadata": {
  "kernelspec": {
   "display_name": "Python 3",
   "language": "python",
   "name": "python3"
  },
  "language_info": {
   "codemirror_mode": {
    "name": "ipython",
    "version": 3
   },
   "file_extension": ".py",
   "mimetype": "text/x-python",
   "name": "python",
   "nbconvert_exporter": "python",
   "pygments_lexer": "ipython3",
   "version": "3.8.5"
  }
 },
 "nbformat": 4,
 "nbformat_minor": 5
}
