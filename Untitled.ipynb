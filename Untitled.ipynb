{
 "cells": [
  {
   "cell_type": "code",
   "execution_count": null,
   "id": "4738d0b9-97c1-49b2-8820-a0b8e6743b73",
   "metadata": {},
   "outputs": [],
   "source": [
    "payload = {\n",
    "    \"search_terms\": \"data visualization\",\n",
    "    \"location\": \"New York City, NY\",\n",
    "    \"page\": 1,\n",
    "    \"fetch_full_text\": \"yes\"\n",
    "}\n",
    "\n",
    "max_page = 10\n",
    "result = {}\n",
    "for i in range(1, max_page + 1):\n",
    "    try:\n",
    "        payload.update({'page': i})\n",
    "        \n",
    "        if i not in result:\n",
    "            result[i] = requests.request(\"POST\", url, json=payload, headers=headers)\n",
    "            \n",
    "    except:\n",
    "        continue"
   ]
  },
  {
   "cell_type": "code",
   "execution_count": 5,
   "id": "3150653c-6dd8-485b-ab8e-b664fc2e9ff1",
   "metadata": {},
   "outputs": [
    {
     "name": "stdout",
     "output_type": "stream",
     "text": [
      "7344000.0\n"
     ]
    }
   ],
   "source": []
  },
  {
   "cell_type": "code",
   "execution_count": 2,
   "id": "aa8b459d-bc6d-49e0-bbbc-b7b841ca350c",
   "metadata": {},
   "outputs": [
    {
     "data": {
      "text/plain": [
       "datetime.date(2022, 7, 14)"
      ]
     },
     "execution_count": 2,
     "metadata": {},
     "output_type": "execute_result"
    }
   ],
   "source": [
    "datetime.now().date() "
   ]
  },
  {
   "cell_type": "code",
   "execution_count": 3,
   "id": "b1b1820a-f751-4a0f-bd23-4332a2ba356b",
   "metadata": {},
   "outputs": [
    {
     "data": {
      "text/plain": [
       "datetime.date(2022, 4, 20)"
      ]
     },
     "execution_count": 3,
     "metadata": {},
     "output_type": "execute_result"
    }
   ],
   "source": [
    "datetime.strptime(\"20/04/2022\", format_).date()"
   ]
  },
  {
   "cell_type": "code",
   "execution_count": null,
   "id": "1249860b-d896-4cc6-98a1-02ea6e8b1691",
   "metadata": {},
   "outputs": [],
   "source": [
    "\n",
    "\n",
    "import datetime\n",
    "\n",
    "datetime.datetime.strptime('Mon Feb 15 2010', '%a %b %d %Y').strftime('%d/%m/%Y')"
   ]
  },
  {
   "cell_type": "code",
   "execution_count": null,
   "id": "8d6043bb-77ee-4684-bd3f-f14036704a9e",
   "metadata": {},
   "outputs": [],
   "source": [
    "datetime.datetime.now().strftime('%d %b %Y , %H:%M:%S %p')"
   ]
  },
  {
   "cell_type": "code",
   "execution_count": null,
   "id": "7762c804-d4e3-46ee-9ac3-88318de42a0a",
   "metadata": {},
   "outputs": [],
   "source": [
    "def immunte(Fname, Lname, DRB, GDR, driver):\n",
    "    al = []\n",
    "    # work on  search button\n",
    "    driver.find_element_by_xpath(\"//*[@id='edittesttest']\").click()\n",
    "\n",
    "    # work on \n",
    "    lastname = driver.find_element_by_id(\"LM\")\n",
    "    lastname.clear()\n",
    "    lastname.send_keys(Lname)\n",
    "\n",
    "    # work on \n",
    "    firstname = driver.find_element_by_id(\"FN\")\n",
    "    firstname.clear()\n",
    "    firstname.send_keys(Fname)\n",
    "\n",
    "    # work on \n",
    "    birthdate = driver.find_element_by_id(\"DRB\")\n",
    "    birthdate.clear()\n",
    "    birthdate.send_keys(DRB)\n",
    "\n",
    "    # work on advanced search button to input GDR\n",
    "    try:\n",
    "        driver.find_element_by_xpath(\n",
    "            \"//*[@id='queryResultsForm']/table/tbody/tr/td[2]/table/tbody/tr[3]/td/table/tbody/tr[2]/td[5]/input\").click()\n",
    "\n",
    "        # work on GDR selection button\n",
    "        obj = Select(driver.find_element_by_name(\"OSC\"))\n",
    "        if GDR == 'W':\n",
    "            obj.select_by_index(2)\n",
    "        elif GDR == 'S':\n",
    "            obj.select_by_index(1)\n",
    "        else:\n",
    "            obj.select_by_index(3)\n",
    "\n",
    "        # work on search button\n",
    "        driver.find_element_by_name(\"cmdFindClient\").click()\n",
    "\n",
    "    \n",
    "\n",
    "        # two scenarios could emerge as a search result: 1, not found 2, the  found\n",
    "        if \"No were found for the requested search criteria\" in driver.find_element_by_id(\"queryResultsForm\").text:\n",
    "            return al\n",
    "\n",
    "        if \"the found\" in driver.find_element_by_id(\"queryResultsForm\").text:\n",
    "\n",
    "            # work on button\n",
    "            driver.find_element_by_xpath(\n",
    "                \"//*[@id='queryResultsForm']/table[2]/tbody/tr[2]/td[2]/span/label\").click()\n",
    "\n",
    "            # work on pt button\n",
    "            driver.find_element_by_id(\"redirect1\").click()\n",
    "\n",
    "            # work on getting rid of opt out  - header\n",
    "            header = driver.find_elements_by_class_name(\"large\")[1].text\n",
    "\n",
    "            if \"Access Restricted\" in header:\n",
    "                print(Fname+' '+Lname+' '+\" Opt out\")\n",
    "                return al\n",
    "\n",
    "            if \"Information\" in header:\n",
    "                # find the first line\n",
    "                first = driver.find_element_by_xpath(\n",
    "                    \"//*[@id='container']/table[3]/tbody/tr/td[2]/table[2]/tbody/tr/td/table/tbody/tr[1]/td/table/tbody/tr[5]/td[1]\"\n",
    "                ).text\n",
    "                \n",
    "                if (first == None):\n",
    "                    return al\n",
    "                \n",
    "                even = driver.find_elements_by_class_name(\"evenRow\")\n",
    "                odd = driver.find_elements_by_class_name(\"oddRow\")\n",
    "                o = []\n",
    "                e = []\n",
    "\n",
    "                for value in odd:\n",
    "                    o.append(value.text)\n",
    "                for value in even:\n",
    "                    e.append(value.text)\n",
    "\n",
    "                length = len(o)\n",
    "                i = 0\n",
    "                al = []\n",
    "\n",
    "                # merge odd and even row together and remove the row marked with complete\n",
    "                while i < length:\n",
    "                    al.append(e[i])\n",
    "                    al.append(o[i])\n",
    "                    i = i+1\n",
    "\n",
    "                # parse each row of information with a comma, add group name for row that are without one\n",
    "                for x in range(len(al)):\n",
    "                    if is_date(al[x][1:10]):\n",
    "                        al[x] = al[x].replace(' ', ',')\n",
    "                        al[x] = al[x].replace(',of,', ' of ')\n",
    "                        al[x] = group + ',' + al[x][2:]\n",
    "\n",
    "                    else:\n",
    "                        al[x] = al[x].replace(' ', ',')\n",
    "                        al[x] = al[x].replace(',of,', ' of ')\n",
    "                        g = al[x].split(',', 1)\n",
    "                        group = g[0]\n",
    "                        \n",
    "        # work on returning to home page\n",
    "        driver.find_element_by_xpath(\n",
    "            \"//*[@id='headerMenu']/table/tbody/tr/td[2]/div/a\").click()\n",
    "    except NoSuchElementException:\n",
    "        pass\n",
    "\n",
    "    except WebDriverException:\n",
    "        pass\n",
    "    \n",
    "    return  al"
   ]
  },
  {
   "cell_type": "code",
   "execution_count": null,
   "id": "7557ecf7-229e-4846-b09e-83ba0d185020",
   "metadata": {},
   "outputs": [],
   "source": [
    "def movesnake():\n",
    "    while True:\n",
    "        entry = input()\n",
    "\n",
    "        if entry == 'w':\n",
    "            print('w')\n",
    "\n",
    "        if entry == 'a':\n",
    "            print('a')\n",
    "\n",
    "        if entry == 'd':\n",
    "            print('d')\n",
    "        \n",
    "\n",
    "movesnake() "
   ]
  },
  {
   "cell_type": "code",
   "execution_count": null,
   "id": "ad28d7f5-4667-46df-9bc3-757097d074ed",
   "metadata": {},
   "outputs": [],
   "source": [
    "filterDict = {\n",
    "   \"1\" : [\"1a\",\"1b\"],\n",
    "   \"2\" : [\"2a\",\"2b\"]\n",
    "}\n",
    "filterDict "
   ]
  },
  {
   "cell_type": "code",
   "execution_count": null,
   "id": "2bb14976-f345-4708-b532-e7d5ef1d8da3",
   "metadata": {},
   "outputs": [],
   "source": [
    "type(df[['colA', 'colB']].apply(tuple))"
   ]
  },
  {
   "cell_type": "code",
   "execution_count": 4,
   "id": "62d3c472-98b9-4d09-ac90-d3480e7f5b7f",
   "metadata": {},
   "outputs": [],
   "source": [
    "import pandas as pd\n",
    "\n",
    "df = pd.DataFrame({'colA': [1,1,2,2,2,3,4], 'colB': ['1a', '1b', '2a', '2b', '2c', '3a', '4a']})\n",
    "\n",
    "filterDict = {\n",
    "   \"1\" : [\"1a\",\"1b\"],\n",
    "   \"2\" : [\"2a\",\"2b\"]\n",
    "}\n",
    "\n",
    "\n"
   ]
  },
  {
   "cell_type": "code",
   "execution_count": 5,
   "id": "29a3b9b8-41ce-4351-a50a-2e0cc263c0f9",
   "metadata": {},
   "outputs": [
    {
     "data": {
      "text/html": [
       "<div>\n",
       "<style scoped>\n",
       "    .dataframe tbody tr th:only-of-type {\n",
       "        vertical-align: middle;\n",
       "    }\n",
       "\n",
       "    .dataframe tbody tr th {\n",
       "        vertical-align: top;\n",
       "    }\n",
       "\n",
       "    .dataframe thead th {\n",
       "        text-align: right;\n",
       "    }\n",
       "</style>\n",
       "<table border=\"1\" class=\"dataframe\">\n",
       "  <thead>\n",
       "    <tr style=\"text-align: right;\">\n",
       "      <th></th>\n",
       "      <th>colA</th>\n",
       "      <th>colB</th>\n",
       "      <th>colC</th>\n",
       "      <th>colD</th>\n",
       "    </tr>\n",
       "  </thead>\n",
       "  <tbody>\n",
       "    <tr>\n",
       "      <th>0</th>\n",
       "      <td>1</td>\n",
       "      <td>1a</td>\n",
       "      <td>NO</td>\n",
       "      <td>NO</td>\n",
       "    </tr>\n",
       "    <tr>\n",
       "      <th>1</th>\n",
       "      <td>1</td>\n",
       "      <td>1b</td>\n",
       "      <td>NO</td>\n",
       "      <td>NO</td>\n",
       "    </tr>\n",
       "    <tr>\n",
       "      <th>2</th>\n",
       "      <td>2</td>\n",
       "      <td>2a</td>\n",
       "      <td>NO</td>\n",
       "      <td>NO</td>\n",
       "    </tr>\n",
       "    <tr>\n",
       "      <th>3</th>\n",
       "      <td>2</td>\n",
       "      <td>2b</td>\n",
       "      <td>NO</td>\n",
       "      <td>NO</td>\n",
       "    </tr>\n",
       "    <tr>\n",
       "      <th>4</th>\n",
       "      <td>2</td>\n",
       "      <td>2c</td>\n",
       "      <td>YES</td>\n",
       "      <td>YES</td>\n",
       "    </tr>\n",
       "    <tr>\n",
       "      <th>5</th>\n",
       "      <td>3</td>\n",
       "      <td>3a</td>\n",
       "      <td>YES</td>\n",
       "      <td>YES</td>\n",
       "    </tr>\n",
       "    <tr>\n",
       "      <th>6</th>\n",
       "      <td>4</td>\n",
       "      <td>4a</td>\n",
       "      <td>YES</td>\n",
       "      <td>YES</td>\n",
       "    </tr>\n",
       "  </tbody>\n",
       "</table>\n",
       "</div>"
      ],
      "text/plain": [
       "   colA colB colC colD\n",
       "0     1   1a   NO   NO\n",
       "1     1   1b   NO   NO\n",
       "2     2   2a   NO   NO\n",
       "3     2   2b   NO   NO\n",
       "4     2   2c  YES  YES\n",
       "5     3   3a  YES  YES\n",
       "6     4   4a  YES  YES"
      ]
     },
     "execution_count": 5,
     "metadata": {},
     "output_type": "execute_result"
    }
   ],
   "source": [
    "df['colC'] = df[['colA', 'colB']].apply(\n",
    "\n",
    "    lambda _: 'NO' if str(_[0]) in filterDict and _[1] in filterDict.get(str(_[0]), []) else 'YES',\n",
    "    axis=1\n",
    ")\n",
    "df['colD'] = df['colC'].copy()\n",
    "df"
   ]
  },
  {
   "cell_type": "code",
   "execution_count": 6,
   "id": "d1df0bb9-045e-4f9a-9d34-f9ef2ec38680",
   "metadata": {},
   "outputs": [
    {
     "data": {
      "text/html": [
       "<div>\n",
       "<style scoped>\n",
       "    .dataframe tbody tr th:only-of-type {\n",
       "        vertical-align: middle;\n",
       "    }\n",
       "\n",
       "    .dataframe tbody tr th {\n",
       "        vertical-align: top;\n",
       "    }\n",
       "\n",
       "    .dataframe thead th {\n",
       "        text-align: right;\n",
       "    }\n",
       "</style>\n",
       "<table border=\"1\" class=\"dataframe\">\n",
       "  <thead>\n",
       "    <tr style=\"text-align: right;\">\n",
       "      <th></th>\n",
       "      <th>col1</th>\n",
       "      <th>col2</th>\n",
       "    </tr>\n",
       "  </thead>\n",
       "  <tbody>\n",
       "    <tr>\n",
       "      <th>0</th>\n",
       "      <td>1c</td>\n",
       "      <td>1a</td>\n",
       "    </tr>\n",
       "    <tr>\n",
       "      <th>1</th>\n",
       "      <td>1a</td>\n",
       "      <td>1b</td>\n",
       "    </tr>\n",
       "    <tr>\n",
       "      <th>2</th>\n",
       "      <td>2z</td>\n",
       "      <td>2a</td>\n",
       "    </tr>\n",
       "    <tr>\n",
       "      <th>3</th>\n",
       "      <td>2x</td>\n",
       "      <td>2b</td>\n",
       "    </tr>\n",
       "    <tr>\n",
       "      <th>4</th>\n",
       "      <td>2a</td>\n",
       "      <td>2c</td>\n",
       "    </tr>\n",
       "    <tr>\n",
       "      <th>5</th>\n",
       "      <td>3a</td>\n",
       "      <td>3a</td>\n",
       "    </tr>\n",
       "    <tr>\n",
       "      <th>6</th>\n",
       "      <td>4a</td>\n",
       "      <td>4a</td>\n",
       "    </tr>\n",
       "  </tbody>\n",
       "</table>\n",
       "</div>"
      ],
      "text/plain": [
       "  col1 col2\n",
       "0   1c   1a\n",
       "1   1a   1b\n",
       "2   2z   2a\n",
       "3   2x   2b\n",
       "4   2a   2c\n",
       "5   3a   3a\n",
       "6   4a   4a"
      ]
     },
     "execution_count": 6,
     "metadata": {},
     "output_type": "execute_result"
    }
   ],
   "source": [
    "df = pd.DataFrame({'col1': ['1c', '1a', '2z', '2x', '2a', '3a', '4a'], 'col2': ['1a', '1b', '2a', '2b', '2c', '3a', '4a']})\n",
    "df"
   ]
  },
  {
   "cell_type": "code",
   "execution_count": 14,
   "id": "e8db8ac8-c012-403f-80ea-0ed75b227399",
   "metadata": {},
   "outputs": [
    {
     "data": {
      "text/html": [
       "<div>\n",
       "<style scoped>\n",
       "    .dataframe tbody tr th:only-of-type {\n",
       "        vertical-align: middle;\n",
       "    }\n",
       "\n",
       "    .dataframe tbody tr th {\n",
       "        vertical-align: top;\n",
       "    }\n",
       "\n",
       "    .dataframe thead th {\n",
       "        text-align: right;\n",
       "    }\n",
       "</style>\n",
       "<table border=\"1\" class=\"dataframe\">\n",
       "  <thead>\n",
       "    <tr style=\"text-align: right;\">\n",
       "      <th></th>\n",
       "      <th>col1</th>\n",
       "      <th>col2</th>\n",
       "    </tr>\n",
       "  </thead>\n",
       "  <tbody>\n",
       "    <tr>\n",
       "      <th>0</th>\n",
       "      <td>1a</td>\n",
       "      <td>1c</td>\n",
       "    </tr>\n",
       "    <tr>\n",
       "      <th>1</th>\n",
       "      <td>1a</td>\n",
       "      <td>1b</td>\n",
       "    </tr>\n",
       "    <tr>\n",
       "      <th>2</th>\n",
       "      <td>2a</td>\n",
       "      <td>2z</td>\n",
       "    </tr>\n",
       "    <tr>\n",
       "      <th>3</th>\n",
       "      <td>2b</td>\n",
       "      <td>2x</td>\n",
       "    </tr>\n",
       "    <tr>\n",
       "      <th>4</th>\n",
       "      <td>2a</td>\n",
       "      <td>2c</td>\n",
       "    </tr>\n",
       "    <tr>\n",
       "      <th>5</th>\n",
       "      <td>3a</td>\n",
       "      <td>3a</td>\n",
       "    </tr>\n",
       "    <tr>\n",
       "      <th>6</th>\n",
       "      <td>4a</td>\n",
       "      <td>4a</td>\n",
       "    </tr>\n",
       "  </tbody>\n",
       "</table>\n",
       "</div>"
      ],
      "text/plain": [
       "  col1 col2\n",
       "0   1a   1c\n",
       "1   1a   1b\n",
       "2   2a   2z\n",
       "3   2b   2x\n",
       "4   2a   2c\n",
       "5   3a   3a\n",
       "6   4a   4a"
      ]
     },
     "execution_count": 14,
     "metadata": {},
     "output_type": "execute_result"
    }
   ],
   "source": [
    "df[['col1', 'col2']] = pd.DataFrame(\n",
    "    zip(*df[['col1', 'col2']].apply(sorted, axis=1).values)\n",
    ").T\n",
    "\n",
    "df"
   ]
  },
  {
   "cell_type": "code",
   "execution_count": 21,
   "id": "b0ffcef1-1584-4a10-98c1-d469d5757963",
   "metadata": {},
   "outputs": [
    {
     "data": {
      "text/plain": [
       "['[A, B, C, D, E, F, G, H]',\n",
       " '[I, J, K, L, M, N, O, P]',\n",
       " '[Q, R, S, T, U, V, W, X]']"
      ]
     },
     "execution_count": 21,
     "metadata": {},
     "output_type": "execute_result"
    }
   ],
   "source": [
    "import ast\n",
    "\n",
    "variable = '''\n",
    "[A, B, C, D, E, F, G, H]\n",
    "[I, J, K, L, M, N, O, P]\n",
    "[Q, R, S, T, U, V, W, X]\n",
    "'''\n",
    "\n",
    "listas = [_ for _ in variable.split('\\n') if len(_) > 1]\n",
    "listas"
   ]
  },
  {
   "cell_type": "code",
   "execution_count": null,
   "id": "2cfd4812-e90d-4e4b-b68a-43147680bc65",
   "metadata": {},
   "outputs": [],
   "source": []
  }
 ],
 "metadata": {
  "kernelspec": {
   "display_name": "Python 3",
   "language": "python",
   "name": "python3"
  },
  "language_info": {
   "codemirror_mode": {
    "name": "ipython",
    "version": 3
   },
   "file_extension": ".py",
   "mimetype": "text/x-python",
   "name": "python",
   "nbconvert_exporter": "python",
   "pygments_lexer": "ipython3",
   "version": "3.8.5"
  }
 },
 "nbformat": 4,
 "nbformat_minor": 5
}
